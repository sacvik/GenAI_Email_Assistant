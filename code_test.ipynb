{
 "cells": [
  {
   "cell_type": "code",
   "execution_count": 1,
   "id": "5995bc03",
   "metadata": {},
   "outputs": [],
   "source": [
    "from email_download_yesterday import *"
   ]
  },
  {
   "cell_type": "code",
   "execution_count": 2,
   "id": "7b5c257c",
   "metadata": {},
   "outputs": [
    {
     "name": "stdout",
     "output_type": "stream",
     "text": [
      "Downloaded 255 emails from the last 5 day(s).\n"
     ]
    }
   ],
   "source": [
    "your_name = \"Sachin Verma\"\n",
    "internal_domain = \"@spglobal.com\"  # Replace with your company's email domain\n",
    "downloader = DownloadEmails(your_name, internal_domain)\n",
    "downloader.day_count = 5  # Set the number of days to look back\n",
    "df = downloader.fetch_emails()\n",
    "print(f\"Downloaded {len(df)} emails from the last {downloader.day_count} day(s).\")\n"
   ]
  },
  {
   "cell_type": "code",
   "execution_count": 3,
   "id": "5a379f46",
   "metadata": {},
   "outputs": [
    {
     "data": {
      "text/plain": [
       "'2025-06-29'"
      ]
     },
     "execution_count": 3,
     "metadata": {},
     "output_type": "execute_result"
    }
   ],
   "source": [
    "cut_off_date = datetime.now() - timedelta(days=downloader.day_count)\n",
    "cut_off_date = cut_off_date.date().strftime(\"%Y-%m-%d\")\n",
    "cut_off_date\n"
   ]
  },
  {
   "cell_type": "code",
   "execution_count": null,
   "id": "37422d4f",
   "metadata": {},
   "outputs": [],
   "source": []
  }
 ],
 "metadata": {
  "kernelspec": {
   "display_name": ".venv",
   "language": "python",
   "name": "python3"
  },
  "language_info": {
   "codemirror_mode": {
    "name": "ipython",
    "version": 3
   },
   "file_extension": ".py",
   "mimetype": "text/x-python",
   "name": "python",
   "nbconvert_exporter": "python",
   "pygments_lexer": "ipython3",
   "version": "3.10.6"
  }
 },
 "nbformat": 4,
 "nbformat_minor": 5
}
